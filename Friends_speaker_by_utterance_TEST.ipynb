{
  "nbformat": 4,
  "nbformat_minor": 0,
  "metadata": {
    "colab": {
      "name": "Friends_speaker_by_utterance_TEST.ipynb",
      "provenance": [],
      "collapsed_sections": []
    },
    "kernelspec": {
      "name": "python3",
      "display_name": "Python 3"
    },
    "accelerator": "GPU"
  },
  "cells": [
    {
      "cell_type": "code",
      "metadata": {
        "id": "hYhB8N6D6ukx",
        "colab_type": "code",
        "colab": {}
      },
      "source": [
        "#       .\n",
        "#       |\n",
        "#       |\n",
        "#    ,-'\"`-.\n",
        "#  ,'       `.\n",
        "#  |  _____  |      .-( HEY baby,lets go out)\n",
        "#  | (_o_o_) |    ,'    ( and kill all humans.)\n",
        "#  |         | ,-'\n",
        "#  | |HHHHH| |\n",
        "#  | |HHHHH| |\n",
        "#-'`-._____.-'`-"
      ],
      "execution_count": 0,
      "outputs": []
    },
    {
      "cell_type": "markdown",
      "metadata": {
        "id": "j9_I4Y9FMF7H",
        "colab_type": "text"
      },
      "source": [
        "#Utilizando uma Rede Neural para predição de fala do seriado Friends"
      ]
    },
    {
      "cell_type": "code",
      "metadata": {
        "id": "Zy3YUaLHghx_",
        "colab_type": "code",
        "colab": {}
      },
      "source": [
        "import pandas as pd\n",
        "import numpy as np \n",
        "import matplotlib.pyplot as plt\n",
        "\n",
        "import torch\n",
        "import string\n",
        "import random\n",
        "import re\n",
        "import time, math\n",
        "\n",
        "import torch.utils.data as utils\n",
        "import torch\n",
        "from torch.utils.data import Dataset, DataLoader\n",
        "from torchvision import transforms, utils\n",
        "import seaborn as sn\n",
        "from sklearn.metrics import confusion_matrix\n",
        "\n",
        "import torchvision\n",
        "from sklearn.preprocessing import StandardScaler\n",
        "from sklearn.model_selection import train_test_split\n",
        "import collections\n",
        "\n",
        "import torch.nn as nn\n",
        "from torch.autograd import Variable\n",
        "import torch\n",
        "import torch.utils.data as utils\n",
        "import csv\n",
        "\n",
        "\n",
        "def time_since(since):\n",
        "    s = time.time() - since\n",
        "    m = math.floor(s / 60)\n",
        "    s -= m * 60\n",
        "    return '%dm %ds' % (m, s)"
      ],
      "execution_count": 0,
      "outputs": []
    },
    {
      "cell_type": "code",
      "metadata": {
        "id": "q6u8wLTZhlv9",
        "colab_type": "code",
        "colab": {}
      },
      "source": [
        "from google.colab import files\n",
        "\n",
        "with open('train_dataset.txt') as csv_file:\n",
        "    csv_reader = csv.reader(csv_file, delimiter=',')\n",
        "    #line_count = 0\n",
        "   # for row in csv_reader:\n",
        "       # print(f'\\t Frase {row[0]}: {row[1]}  Label/personagem: {row[2]}.')  "
      ],
      "execution_count": 0,
      "outputs": []
    },
    {
      "cell_type": "markdown",
      "metadata": {
        "id": "ylu-Dq_zVLU_",
        "colab_type": "text"
      },
      "source": [
        "#Treinamento"
      ]
    },
    {
      "cell_type": "code",
      "metadata": {
        "id": "eb75_K7a9lTh",
        "colab_type": "code",
        "outputId": "8c4058b6-be48-4e90-ec06-0eaaf1cc18e9",
        "colab": {
          "base_uri": "https://localhost:8080/",
          "height": 198
        }
      },
      "source": [
        "# carregar o dataset de treino\n",
        "\n",
        "raw_data1 = pd.read_csv('train_dataset.txt')\n",
        "raw_data1.head()"
      ],
      "execution_count": 0,
      "outputs": [
        {
          "output_type": "execute_result",
          "data": {
            "text/html": [
              "<div>\n",
              "<style scoped>\n",
              "    .dataframe tbody tr th:only-of-type {\n",
              "        vertical-align: middle;\n",
              "    }\n",
              "\n",
              "    .dataframe tbody tr th {\n",
              "        vertical-align: top;\n",
              "    }\n",
              "\n",
              "    .dataframe thead th {\n",
              "        text-align: right;\n",
              "    }\n",
              "</style>\n",
              "<table border=\"1\" class=\"dataframe\">\n",
              "  <thead>\n",
              "    <tr style=\"text-align: right;\">\n",
              "      <th></th>\n",
              "      <th>Sr No.</th>\n",
              "      <th>Utterance</th>\n",
              "      <th>Speaker</th>\n",
              "      <th>Emotion</th>\n",
              "      <th>Sentiment</th>\n",
              "      <th>Dialogue_ID</th>\n",
              "      <th>Utterance_ID</th>\n",
              "      <th>Season</th>\n",
              "      <th>Episode</th>\n",
              "      <th>StartTime</th>\n",
              "      <th>EndTime</th>\n",
              "    </tr>\n",
              "  </thead>\n",
              "  <tbody>\n",
              "    <tr>\n",
              "      <th>0</th>\n",
              "      <td>1</td>\n",
              "      <td>also I was the point person on my companys tr...</td>\n",
              "      <td>Chandler</td>\n",
              "      <td>neutral</td>\n",
              "      <td>neutral</td>\n",
              "      <td>0</td>\n",
              "      <td>0</td>\n",
              "      <td>8</td>\n",
              "      <td>21</td>\n",
              "      <td>00:16:16,059</td>\n",
              "      <td>00:16:21,731</td>\n",
              "    </tr>\n",
              "    <tr>\n",
              "      <th>1</th>\n",
              "      <td>2</td>\n",
              "      <td>You mustve had your hands full.</td>\n",
              "      <td>The Interviewer</td>\n",
              "      <td>neutral</td>\n",
              "      <td>neutral</td>\n",
              "      <td>0</td>\n",
              "      <td>1</td>\n",
              "      <td>8</td>\n",
              "      <td>21</td>\n",
              "      <td>00:16:21,940</td>\n",
              "      <td>00:16:23,442</td>\n",
              "    </tr>\n",
              "    <tr>\n",
              "      <th>2</th>\n",
              "      <td>3</td>\n",
              "      <td>That I did. That I did.</td>\n",
              "      <td>Chandler</td>\n",
              "      <td>neutral</td>\n",
              "      <td>neutral</td>\n",
              "      <td>0</td>\n",
              "      <td>2</td>\n",
              "      <td>8</td>\n",
              "      <td>21</td>\n",
              "      <td>00:16:23,442</td>\n",
              "      <td>00:16:26,389</td>\n",
              "    </tr>\n",
              "    <tr>\n",
              "      <th>3</th>\n",
              "      <td>4</td>\n",
              "      <td>So lets talk a little bit about your duties.</td>\n",
              "      <td>The Interviewer</td>\n",
              "      <td>neutral</td>\n",
              "      <td>neutral</td>\n",
              "      <td>0</td>\n",
              "      <td>3</td>\n",
              "      <td>8</td>\n",
              "      <td>21</td>\n",
              "      <td>00:16:26,820</td>\n",
              "      <td>00:16:29,572</td>\n",
              "    </tr>\n",
              "    <tr>\n",
              "      <th>4</th>\n",
              "      <td>5</td>\n",
              "      <td>My duties?  All right.</td>\n",
              "      <td>Chandler</td>\n",
              "      <td>surprise</td>\n",
              "      <td>positive</td>\n",
              "      <td>0</td>\n",
              "      <td>4</td>\n",
              "      <td>8</td>\n",
              "      <td>21</td>\n",
              "      <td>00:16:34,452</td>\n",
              "      <td>00:16:40,917</td>\n",
              "    </tr>\n",
              "  </tbody>\n",
              "</table>\n",
              "</div>"
            ],
            "text/plain": [
              "   Sr No.  ...       EndTime\n",
              "0       1  ...  00:16:21,731\n",
              "1       2  ...  00:16:23,442\n",
              "2       3  ...  00:16:26,389\n",
              "3       4  ...  00:16:29,572\n",
              "4       5  ...  00:16:40,917\n",
              "\n",
              "[5 rows x 11 columns]"
            ]
          },
          "metadata": {
            "tags": []
          },
          "execution_count": 4
        }
      ]
    },
    {
      "cell_type": "code",
      "metadata": {
        "id": "TDKeEpWdRwZo",
        "colab_type": "code",
        "outputId": "fd9f8f05-295e-472a-af96-45937b0d6f3c",
        "colab": {
          "base_uri": "https://localhost:8080/",
          "height": 198
        }
      },
      "source": [
        "# remover colunas não relevantes\n",
        "\n",
        "data1 = raw_data1.drop([\"Sr No.\", \"Emotion\", \"Sentiment\",\"Dialogue_ID\",\"Utterance_ID\",\"Season\",\"Episode\",\"StartTime\",\"EndTime\"], axis= 1)\n",
        "data1.head()"
      ],
      "execution_count": 0,
      "outputs": [
        {
          "output_type": "execute_result",
          "data": {
            "text/html": [
              "<div>\n",
              "<style scoped>\n",
              "    .dataframe tbody tr th:only-of-type {\n",
              "        vertical-align: middle;\n",
              "    }\n",
              "\n",
              "    .dataframe tbody tr th {\n",
              "        vertical-align: top;\n",
              "    }\n",
              "\n",
              "    .dataframe thead th {\n",
              "        text-align: right;\n",
              "    }\n",
              "</style>\n",
              "<table border=\"1\" class=\"dataframe\">\n",
              "  <thead>\n",
              "    <tr style=\"text-align: right;\">\n",
              "      <th></th>\n",
              "      <th>Utterance</th>\n",
              "      <th>Speaker</th>\n",
              "    </tr>\n",
              "  </thead>\n",
              "  <tbody>\n",
              "    <tr>\n",
              "      <th>0</th>\n",
              "      <td>also I was the point person on my companys tr...</td>\n",
              "      <td>Chandler</td>\n",
              "    </tr>\n",
              "    <tr>\n",
              "      <th>1</th>\n",
              "      <td>You mustve had your hands full.</td>\n",
              "      <td>The Interviewer</td>\n",
              "    </tr>\n",
              "    <tr>\n",
              "      <th>2</th>\n",
              "      <td>That I did. That I did.</td>\n",
              "      <td>Chandler</td>\n",
              "    </tr>\n",
              "    <tr>\n",
              "      <th>3</th>\n",
              "      <td>So lets talk a little bit about your duties.</td>\n",
              "      <td>The Interviewer</td>\n",
              "    </tr>\n",
              "    <tr>\n",
              "      <th>4</th>\n",
              "      <td>My duties?  All right.</td>\n",
              "      <td>Chandler</td>\n",
              "    </tr>\n",
              "  </tbody>\n",
              "</table>\n",
              "</div>"
            ],
            "text/plain": [
              "                                           Utterance          Speaker\n",
              "0  also I was the point person on my companys tr...         Chandler\n",
              "1                   You mustve had your hands full.  The Interviewer\n",
              "2                            That I did. That I did.         Chandler\n",
              "3      So lets talk a little bit about your duties.  The Interviewer\n",
              "4                             My duties?  All right.         Chandler"
            ]
          },
          "metadata": {
            "tags": []
          },
          "execution_count": 5
        }
      ]
    },
    {
      "cell_type": "code",
      "metadata": {
        "id": "1U1JnxmCSqRU",
        "colab_type": "code",
        "outputId": "d003c9be-7c31-499f-ed3c-bf67f07ed12e",
        "colab": {
          "base_uri": "https://localhost:8080/",
          "height": 35
        }
      },
      "source": [
        "print(\"The number of rows in train_dataset are {}\".format(len(data1)))"
      ],
      "execution_count": 0,
      "outputs": [
        {
          "output_type": "stream",
          "text": [
            "The number of rows in train_dataset are 9989\n"
          ],
          "name": "stdout"
        }
      ]
    },
    {
      "cell_type": "code",
      "metadata": {
        "id": "m9y2KU1gremj",
        "colab_type": "code",
        "outputId": "8ff06f4e-0bae-4aaa-873a-844448d94a5e",
        "colab": {
          "base_uri": "https://localhost:8080/",
          "height": 198
        }
      },
      "source": [
        "#Normalizar o dataset com targets com 1 char apenas\n",
        "# sendo eles: \n",
        "#   c= Chandler\n",
        "#   r = Rachel\n",
        "#   R = Ross\n",
        "#   m = Monica\n",
        "#   p = Phoebe\n",
        "#   j = Joey\n",
        "#   o = others speakers\n",
        "\n",
        "\n",
        "for i in range(len(data1)):\n",
        "    if(data1.iloc[i][-1] == 'Chandler'):\n",
        "        data1.loc[i][-1] = 'c'\n",
        "    elif(data1.iloc[i][-1] == 'Rachel'):\n",
        "        data1.loc[i][-1] = 'r'\n",
        "    elif(data1.iloc[i][-1] == 'Ross'):\n",
        "        data1.loc[i][-1] = 'R'\n",
        "    elif(data1.iloc[i][-1] == 'Monica'):\n",
        "        data1.loc[i][-1] = 'm'\n",
        "    elif(data1.iloc[i][-1] == 'Phoebe'):\n",
        "        data1.loc[i][-1] = 'p'\n",
        "    elif(data1.iloc[i][-1] == 'Joey'):\n",
        "        data1.loc[i][-1] = 'j'\n",
        "    else:\n",
        "        data1.loc[i][-1] = 'o'\n",
        "    \n",
        "data1.sample(frac=1) \n",
        "data1.head()"
      ],
      "execution_count": 0,
      "outputs": [
        {
          "output_type": "execute_result",
          "data": {
            "text/html": [
              "<div>\n",
              "<style scoped>\n",
              "    .dataframe tbody tr th:only-of-type {\n",
              "        vertical-align: middle;\n",
              "    }\n",
              "\n",
              "    .dataframe tbody tr th {\n",
              "        vertical-align: top;\n",
              "    }\n",
              "\n",
              "    .dataframe thead th {\n",
              "        text-align: right;\n",
              "    }\n",
              "</style>\n",
              "<table border=\"1\" class=\"dataframe\">\n",
              "  <thead>\n",
              "    <tr style=\"text-align: right;\">\n",
              "      <th></th>\n",
              "      <th>Utterance</th>\n",
              "      <th>Speaker</th>\n",
              "    </tr>\n",
              "  </thead>\n",
              "  <tbody>\n",
              "    <tr>\n",
              "      <th>0</th>\n",
              "      <td>also I was the point person on my companys tr...</td>\n",
              "      <td>c</td>\n",
              "    </tr>\n",
              "    <tr>\n",
              "      <th>1</th>\n",
              "      <td>You mustve had your hands full.</td>\n",
              "      <td>o</td>\n",
              "    </tr>\n",
              "    <tr>\n",
              "      <th>2</th>\n",
              "      <td>That I did. That I did.</td>\n",
              "      <td>c</td>\n",
              "    </tr>\n",
              "    <tr>\n",
              "      <th>3</th>\n",
              "      <td>So lets talk a little bit about your duties.</td>\n",
              "      <td>o</td>\n",
              "    </tr>\n",
              "    <tr>\n",
              "      <th>4</th>\n",
              "      <td>My duties?  All right.</td>\n",
              "      <td>c</td>\n",
              "    </tr>\n",
              "  </tbody>\n",
              "</table>\n",
              "</div>"
            ],
            "text/plain": [
              "                                           Utterance Speaker\n",
              "0  also I was the point person on my companys tr...       c\n",
              "1                   You mustve had your hands full.       o\n",
              "2                            That I did. That I did.       c\n",
              "3      So lets talk a little bit about your duties.       o\n",
              "4                             My duties?  All right.       c"
            ]
          },
          "metadata": {
            "tags": []
          },
          "execution_count": 7
        }
      ]
    },
    {
      "cell_type": "code",
      "metadata": {
        "id": "YcMBCcgIUgV6",
        "colab_type": "code",
        "colab": {}
      },
      "source": [
        "#normalizar o dataset, tirando os diálogos com menos de 20 de legth\n",
        " #if(len(data1.iloc[i][0])<20):\n",
        "       # data1 = data1.drop([i], axis=0)\n",
        "\n",
        "#data1 = data1.drop([0], axis=0)\n",
        "#data1 = data1.drop([1], axis=0)\n",
        "data1 = data1[data1['Utterance'].map(len) > 20]\n",
        "data1 = data1[data1['Speaker'] != 'o']"
      ],
      "execution_count": 0,
      "outputs": []
    },
    {
      "cell_type": "code",
      "metadata": {
        "id": "PPdObSxJ9Ehe",
        "colab_type": "code",
        "outputId": "e2b06fc6-7f7b-469d-9b4a-3fbde996af22",
        "colab": {
          "base_uri": "https://localhost:8080/",
          "height": 216
        }
      },
      "source": [
        "print(len(data1))\n",
        "data1.head()"
      ],
      "execution_count": 0,
      "outputs": [
        {
          "output_type": "stream",
          "text": [
            "5568\n"
          ],
          "name": "stdout"
        },
        {
          "output_type": "execute_result",
          "data": {
            "text/html": [
              "<div>\n",
              "<style scoped>\n",
              "    .dataframe tbody tr th:only-of-type {\n",
              "        vertical-align: middle;\n",
              "    }\n",
              "\n",
              "    .dataframe tbody tr th {\n",
              "        vertical-align: top;\n",
              "    }\n",
              "\n",
              "    .dataframe thead th {\n",
              "        text-align: right;\n",
              "    }\n",
              "</style>\n",
              "<table border=\"1\" class=\"dataframe\">\n",
              "  <thead>\n",
              "    <tr style=\"text-align: right;\">\n",
              "      <th></th>\n",
              "      <th>Utterance</th>\n",
              "      <th>Speaker</th>\n",
              "    </tr>\n",
              "  </thead>\n",
              "  <tbody>\n",
              "    <tr>\n",
              "      <th>0</th>\n",
              "      <td>also I was the point person on my companys tr...</td>\n",
              "      <td>c</td>\n",
              "    </tr>\n",
              "    <tr>\n",
              "      <th>2</th>\n",
              "      <td>That I did. That I did.</td>\n",
              "      <td>c</td>\n",
              "    </tr>\n",
              "    <tr>\n",
              "      <th>4</th>\n",
              "      <td>My duties?  All right.</td>\n",
              "      <td>c</td>\n",
              "    </tr>\n",
              "    <tr>\n",
              "      <th>10</th>\n",
              "      <td>No dont I beg of you!</td>\n",
              "      <td>c</td>\n",
              "    </tr>\n",
              "    <tr>\n",
              "      <th>14</th>\n",
              "      <td>But then who? The waitress I went out with las...</td>\n",
              "      <td>j</td>\n",
              "    </tr>\n",
              "  </tbody>\n",
              "</table>\n",
              "</div>"
            ],
            "text/plain": [
              "                                            Utterance Speaker\n",
              "0   also I was the point person on my companys tr...       c\n",
              "2                             That I did. That I did.       c\n",
              "4                              My duties?  All right.       c\n",
              "10                             No dont I beg of you!       c\n",
              "14  But then who? The waitress I went out with las...       j"
            ]
          },
          "metadata": {
            "tags": []
          },
          "execution_count": 9
        }
      ]
    },
    {
      "cell_type": "code",
      "metadata": {
        "id": "TjJPoH9geNAT",
        "colab_type": "code",
        "colab": {}
      },
      "source": [
        "#np.savetxt(r'C:\\Users\\mo0n\\Documents\\Faculdadestuff\\Rede Neural\\test.txt', data1.values, fmt='%s')"
      ],
      "execution_count": 0,
      "outputs": []
    },
    {
      "cell_type": "code",
      "metadata": {
        "id": "GucwH8_fnvJm",
        "colab_type": "code",
        "outputId": "6ea118fc-7274-42c2-e17c-0af1a7f62179",
        "colab": {
          "base_uri": "https://localhost:8080/",
          "height": 90
        }
      },
      "source": [
        "file = open('test.txt').read()\n",
        "all_characters = ''.join(set(file))\n",
        "n_characters = len(all_characters)\n",
        "print(all_characters)\n",
        "print(n_characters)\n",
        "file_len = len(file)\n",
        "print('file_len =', file_len)"
      ],
      "execution_count": 0,
      "outputs": [
        {
          "output_type": "stream",
          "text": [
            "\n",
            "T\"u9dN(8tX…7&'Hóqp6Abx$BeJhyK—#*Z:si aG?onSwWO!QvFr5LUYf31gcl04kRm.M,IzP2é-CD/j][;V’E%\n",
            "94\n",
            "file_len = 483211\n"
          ],
          "name": "stdout"
        }
      ]
    },
    {
      "cell_type": "code",
      "metadata": {
        "id": "rXieC-u2eNMT",
        "colab_type": "code",
        "outputId": "a7b22690-4833-4878-bd81-8b95b5f07523",
        "colab": {
          "base_uri": "https://localhost:8080/",
          "height": 55
        }
      },
      "source": [
        "chunk_len = 150\n",
        "\n",
        "# Gera um pedaço aleatório de texto com o tamanho especificado em chuck_len\n",
        "def random_chunk():\n",
        "    index = random.randint(0, len(data1)-1)\n",
        "    \n",
        "    data = data1.iloc[index][0]\n",
        "    \n",
        "    for i in range(200-len(data)):#normaliza os chunks com tamanho igual\n",
        "        data+='/0'\n",
        "        \n",
        "    return data, index\n",
        "    \n",
        "print(random_chunk())"
      ],
      "execution_count": 0,
      "outputs": [
        {
          "output_type": "stream",
          "text": [
            "('Wh\\x97no, but y\\x92know who did stop in here looking for ya, Tennille./0/0/0/0/0/0/0/0/0/0/0/0/0/0/0/0/0/0/0/0/0/0/0/0/0/0/0/0/0/0/0/0/0/0/0/0/0/0/0/0/0/0/0/0/0/0/0/0/0/0/0/0/0/0/0/0/0/0/0/0/0/0/0/0/0/0/0/0/0/0/0/0/0/0/0/0/0/0/0/0/0/0/0/0/0/0/0/0/0/0/0/0/0/0/0/0/0/0/0/0/0/0/0/0/0/0/0/0/0/0/0/0/0/0/0/0/0/0/0/0/0/0/0/0/0/0/0/0/0/0/0/0/0/0/0/0', 1647)\n"
          ],
          "name": "stdout"
        }
      ]
    },
    {
      "cell_type": "code",
      "metadata": {
        "id": "S-mcfJmmmHkm",
        "colab_type": "code",
        "outputId": "ae02bbec-ae2f-4881-ddbd-d424c9cb1a9e",
        "colab": {
          "base_uri": "https://localhost:8080/",
          "height": 35
        }
      },
      "source": [
        "\n",
        "def char_tensor(string):\n",
        "    tensor = torch.zeros(len(string)).long()\n",
        "    for c in range(len(string)):\n",
        "        try:\n",
        "            tensor[c] = all_characters.index(string[c])\n",
        "        except:\n",
        "            print(c)\n",
        "            raise\n",
        "    return Variable(tensor)\n",
        "\n",
        "print(char_tensor('abcDEF'))"
      ],
      "execution_count": 0,
      "outputs": [
        {
          "output_type": "stream",
          "text": [
            "tensor([40, 22, 65, 84, 92, 52])\n"
          ],
          "name": "stdout"
        }
      ]
    },
    {
      "cell_type": "code",
      "metadata": {
        "id": "O23Mra_9mAzl",
        "colab_type": "code",
        "outputId": "c753d9f5-bda1-41e9-ad1c-96d7491e11cc",
        "colab": {
          "base_uri": "https://localhost:8080/",
          "height": 381
        }
      },
      "source": [
        "# Gera um 'exemplo' aleatório (um pedaço aleatório convertido para lista de inteiros)\n",
        "def random_training_set():    \n",
        "    chunk, index = random_chunk()\n",
        "    inp = char_tensor(chunk[:-1])\n",
        "    target = data1.iloc[index][-1]\n",
        "    target = char_tensor(target)\n",
        "    return inp, target\n",
        "\n",
        "print(random_training_set())\n",
        "#tensor = random_training_set()\n",
        "#print(tensor)\n",
        "#if(tensor[0][199] == 3) :\n",
        "   # print(\"sim!\")"
      ],
      "execution_count": 0,
      "outputs": [
        {
          "output_type": "stream",
          "text": [
            "(tensor([ 2, 29, 40, 10, 15, 37, 39,  6, 38, 58, 58, 27, 53, 27, 44, 10, 49, 39,\n",
            "        76, 39, 46, 40, 37, 39,  6, 53,  4, 44, 69, 39, 40, 44,  6, 39, 37, 10,\n",
            "         4, 19, 38,  6, 49, 85, 67, 85, 67, 85, 67, 85, 67, 85, 67, 85, 67, 85,\n",
            "        67, 85, 67, 85, 67, 85, 67, 85, 67, 85, 67, 85, 67, 85, 67, 85, 67, 85,\n",
            "        67, 85, 67, 85, 67, 85, 67, 85, 67, 85, 67, 85, 67, 85, 67, 85, 67, 85,\n",
            "        67, 85, 67, 85, 67, 85, 67, 85, 67, 85, 67, 85, 67, 85, 67, 85, 67, 85,\n",
            "        67, 85, 67, 85, 67, 85, 67, 85, 67, 85, 67, 85, 67, 85, 67, 85, 67, 85,\n",
            "        67, 85, 67, 85, 67, 85, 67, 85, 67, 85, 67, 85, 67, 85, 67, 85, 67, 85,\n",
            "        67, 85, 67, 85, 67, 85, 67, 85, 67, 85, 67, 85, 67, 85, 67, 85, 67, 85,\n",
            "        67, 85, 67, 85, 67, 85, 67, 85, 67, 85, 67, 85, 67, 85, 67, 85, 67, 85,\n",
            "        67, 85, 67, 85, 67, 85, 67, 85, 67, 85, 67, 85, 67, 85, 67, 85, 67, 85,\n",
            "        67, 85, 67, 85, 67, 85, 67, 85, 67, 85, 67, 85, 67, 85, 67, 85, 67, 85,\n",
            "        67, 85, 67, 85, 67, 85, 67, 85, 67, 85, 67, 85, 67, 85, 67, 85, 67, 85,\n",
            "        67, 85, 67, 85, 67, 85, 67, 85, 67, 85, 67, 85, 67, 85, 67, 85, 67, 85,\n",
            "        67, 85, 67, 85, 67, 85, 67, 85, 67, 85, 67, 85, 67, 85, 67, 85, 67, 85,\n",
            "        67, 85, 67, 85, 67, 85, 67, 85, 67, 85, 67, 85, 67, 85, 67, 85, 67, 85,\n",
            "        67, 85, 67, 85, 67, 85, 67, 85, 67, 85, 67, 85, 67, 85, 67, 85, 67, 85,\n",
            "        67, 85, 67, 85, 67, 85, 67, 85, 67, 85, 67, 85, 67, 85, 67, 85, 67, 85,\n",
            "        67, 85, 67, 85, 67, 85, 67, 85, 67, 85, 67, 85, 67, 85, 67, 85, 67, 85,\n",
            "        67, 85, 67, 85, 67, 85, 67, 85, 67, 85, 67, 85, 67, 85, 67, 85]), tensor([72]))\n"
          ],
          "name": "stdout"
        }
      ]
    },
    {
      "cell_type": "code",
      "metadata": {
        "id": "8P0o62O9q5eM",
        "colab_type": "code",
        "colab": {}
      },
      "source": [
        "class RNN(nn.Module):\n",
        "    def __init__(self, input_size, hidden_size, output_size, n_layers=1):\n",
        "        super(RNN, self).__init__()\n",
        "        self.input_size = input_size\n",
        "        self.hidden_size = hidden_size\n",
        "        self.output_size = output_size\n",
        "        self.n_layers = n_layers\n",
        "        \n",
        "        self.encoder = nn.Embedding(input_size, hidden_size)\n",
        "        self.lstm = nn.LSTM(hidden_size, hidden_size, n_layers)\n",
        "        self.decoder = nn.Linear(hidden_size, output_size)\n",
        "    \n",
        "    def forward(self, input, hidden, hidden2):\n",
        "        input = self.encoder(input.view(1, -1))\n",
        "        output, (hidden, hidden2) = self.lstm(input.view(1, 1, -1), (hidden, hidden2))\n",
        "        decoded_output = self.decoder(output.view(1, -1))\n",
        "        return decoded_output, hidden, hidden2\n",
        "\n",
        "    def init_hidden(self):\n",
        "        return Variable(torch.zeros(self.n_layers, 1, self.hidden_size))"
      ],
      "execution_count": 0,
      "outputs": []
    },
    {
      "cell_type": "code",
      "metadata": {
        "id": "rm_Jt76luymE",
        "colab_type": "code",
        "colab": {}
      },
      "source": [
        "# Gera um texto iniciando com \"prime_str\" de tamanho \"predict_len\" e variação definida por \"temperature\"\n",
        "def evaluate(prime_str='A', predict_len=1, temperature=0.8):\n",
        "    hidden = rnn.init_hidden().cuda()\n",
        "    hidden2 = rnn.init_hidden().cuda()\n",
        "    prime_input = char_tensor(prime_str).cuda()\n",
        "    predicted = ''\n",
        "\n",
        "    # prime_str é o texto inicial que o gerado irá completar\n",
        "    for p in range(len(prime_str) - 1):\n",
        "        _, hidden, hidden2 = rnn(prime_input[p], hidden, hidden2)\n",
        "    inp = prime_input[-1]\n",
        "    \n",
        "    for p in range(predict_len):\n",
        "        output, hidden, hidden2 = rnn(inp, hidden, hidden2)\n",
        "        \n",
        "        # Usa a temperatura para amostrar a distribuição e escolher a saída probabilísticamente\n",
        "        output_dist = output.data.view(-1).div(temperature).exp()\n",
        "        top_i = torch.multinomial(output_dist, 1)[0]\n",
        "        \n",
        "        # Adiciona o caracter predito à string de saída\n",
        "        predicted_char = all_characters[top_i]\n",
        "        predicted += predicted_char\n",
        "        inp = char_tensor(predicted_char).cuda()\n",
        "\n",
        "    return predicted"
      ],
      "execution_count": 0,
      "outputs": []
    },
    {
      "cell_type": "code",
      "metadata": {
        "id": "zp8U1_1Jw9Ha",
        "colab_type": "code",
        "colab": {}
      },
      "source": [
        "# Treina sobre um exemplo (i.e. uma amostragem do texto)\n",
        "\n",
        "def train(inp, target):\n",
        "    hidden = rnn.init_hidden()\n",
        "    hidden2 = rnn.init_hidden()\n",
        "    rnn.zero_grad()\n",
        "    loss = 0\n",
        "\n",
        "    inp = inp.cuda()\n",
        "    hidden = hidden.cuda()\n",
        "    hidden2 = hidden2.cuda()\n",
        "    for c in range(chunk_len):\n",
        "        if(inp[c] != 27):\n",
        "            output, hidden, hidden2 = rnn(inp[c], hidden, hidden2)\n",
        "            loss += loss_metric(output, target[0].unsqueeze(0))\n",
        "        else:\n",
        "            break\n",
        "\n",
        "    loss.backward()\n",
        "    optimizer.step()\n",
        "\n",
        "    return loss.data.item() / chunk_len"
      ],
      "execution_count": 0,
      "outputs": []
    },
    {
      "cell_type": "code",
      "metadata": {
        "id": "1yQDIu7rye3-",
        "colab_type": "code",
        "outputId": "22fe242d-7997-4672-b39a-e02178e62e42",
        "colab": {
          "base_uri": "https://localhost:8080/",
          "height": 1000
        }
      },
      "source": [
        "n_epochs = 30000\n",
        "print_every = 100\n",
        "hidden_size = 512\n",
        "n_layers = 2\n",
        "lr = 0.0005\n",
        "\n",
        "cuda = torch.device('cuda')\n",
        "\n",
        "rnn = RNN(n_characters, hidden_size, n_characters, n_layers)\n",
        "rnn.cuda()\n",
        "\n",
        "optimizer = torch.optim.Adam(rnn.parameters(), lr=lr)\n",
        "loss_metric = nn.CrossEntropyLoss()\n",
        "\n",
        "start = time.time()\n",
        "all_losses = []\n",
        "loss_avg = 0\n",
        "\n",
        "for epoch in range(1, n_epochs + 1):\n",
        "    example = random_training_set()\n",
        "    #print(example[0])\n",
        "    loss = train(example[0].cuda(),example[1].cuda())       \n",
        "    loss_avg += loss\n",
        "\n",
        "    if epoch % print_every == 0:\n",
        "        print('[%s (%d %d%%) %.4f]' % (time_since(start), epoch, epoch / n_epochs * 100, loss))\n",
        "       # print(evaluate('The', 100), '\\n')\n"
      ],
      "execution_count": 0,
      "outputs": [
        {
          "output_type": "stream",
          "text": [
            "[0m 4s (100 0%) 0.2843]\n",
            "[0m 9s (200 0%) 0.1098]\n",
            "[0m 14s (300 1%) 0.0777]\n",
            "[0m 17s (400 1%) 0.1505]\n",
            "[0m 24s (500 1%) 0.3692]\n",
            "[0m 29s (600 2%) 0.2480]\n",
            "[0m 35s (700 2%) 0.1512]\n",
            "[0m 38s (800 2%) 0.0257]\n",
            "[0m 42s (900 3%) 0.1125]\n",
            "[0m 47s (1000 3%) 0.0697]\n",
            "[0m 51s (1100 3%) 0.0254]\n",
            "[0m 56s (1200 4%) 0.2713]\n",
            "[1m 3s (1300 4%) 0.1767]\n",
            "[1m 6s (1400 4%) 0.0175]\n",
            "[1m 10s (1500 5%) 0.0457]\n",
            "[1m 14s (1600 5%) 0.3350]\n",
            "[1m 19s (1700 5%) 0.3319]\n",
            "[1m 23s (1800 6%) 0.0776]\n",
            "[1m 28s (1900 6%) 1.8097]\n",
            "[1m 31s (2000 6%) 0.0135]\n",
            "[1m 36s (2100 7%) 0.0130]\n",
            "[1m 40s (2200 7%) 0.0610]\n",
            "[1m 43s (2300 7%) 0.1636]\n",
            "[1m 49s (2400 8%) 0.0075]\n",
            "[1m 53s (2500 8%) 0.4687]\n",
            "[1m 58s (2600 8%) 0.1432]\n",
            "[2m 2s (2700 9%) 0.0130]\n",
            "[2m 7s (2800 9%) 0.2376]\n",
            "[2m 11s (2900 9%) 0.0551]\n",
            "[2m 16s (3000 10%) 0.0522]\n",
            "[2m 21s (3100 10%) 0.2523]\n",
            "[2m 25s (3200 10%) 0.1236]\n",
            "[2m 30s (3300 11%) 0.0095]\n",
            "[2m 35s (3400 11%) 0.0118]\n",
            "[2m 39s (3500 11%) 0.1639]\n",
            "[2m 44s (3600 12%) 0.4200]\n",
            "[2m 48s (3700 12%) 0.4032]\n",
            "[2m 53s (3800 12%) 0.2653]\n",
            "[2m 57s (3900 13%) 0.0855]\n",
            "[3m 2s (4000 13%) 0.0579]\n",
            "[3m 9s (4100 13%) 0.1527]\n",
            "[3m 15s (4200 14%) 0.2168]\n",
            "[3m 18s (4300 14%) 0.0877]\n",
            "[3m 23s (4400 14%) 0.1879]\n",
            "[3m 27s (4500 15%) 0.1573]\n",
            "[3m 30s (4600 15%) 0.0111]\n",
            "[3m 35s (4700 15%) 0.1553]\n",
            "[3m 40s (4800 16%) 0.0478]\n",
            "[3m 44s (4900 16%) 0.1242]\n",
            "[3m 49s (5000 16%) 0.1756]\n",
            "[3m 54s (5100 17%) 0.1872]\n",
            "[4m 0s (5200 17%) 0.0360]\n",
            "[4m 5s (5300 17%) 0.1771]\n",
            "[4m 11s (5400 18%) 0.0095]\n",
            "[4m 16s (5500 18%) 0.4083]\n",
            "[4m 20s (5600 18%) 0.0582]\n",
            "[4m 25s (5700 19%) 0.0768]\n",
            "[4m 29s (5800 19%) 0.1863]\n",
            "[4m 34s (5900 19%) 0.1849]\n",
            "[4m 38s (6000 20%) 0.0257]\n",
            "[4m 42s (6100 20%) 0.2456]\n",
            "[4m 46s (6200 20%) 0.2456]\n",
            "[4m 49s (6300 21%) 0.2659]\n",
            "[4m 55s (6400 21%) 0.1688]\n",
            "[4m 59s (6500 21%) 0.0996]\n",
            "[5m 3s (6600 22%) 0.1994]\n",
            "[5m 8s (6700 22%) 0.0962]\n",
            "[5m 13s (6800 22%) 0.0264]\n",
            "[5m 18s (6900 23%) 0.2363]\n",
            "[5m 23s (7000 23%) 0.0084]\n",
            "[5m 28s (7100 23%) 0.4239]\n",
            "[5m 32s (7200 24%) 0.0095]\n",
            "[5m 37s (7300 24%) 0.1021]\n",
            "[5m 43s (7400 24%) 0.1453]\n",
            "[5m 48s (7500 25%) 0.0116]\n",
            "[5m 52s (7600 25%) 0.1311]\n",
            "[5m 56s (7700 25%) 0.0131]\n",
            "[6m 0s (7800 26%) 0.2003]\n",
            "[6m 5s (7900 26%) 0.0125]\n",
            "[6m 9s (8000 26%) 0.1321]\n",
            "[6m 12s (8100 27%) 0.0572]\n",
            "[6m 15s (8200 27%) 0.0393]\n",
            "[6m 19s (8300 27%) 0.0113]\n",
            "[6m 23s (8400 28%) 0.3814]\n",
            "[6m 29s (8500 28%) 0.1246]\n",
            "[6m 32s (8600 28%) 0.3269]\n",
            "[6m 37s (8700 28%) 0.0118]\n",
            "[6m 42s (8800 29%) 0.0352]\n",
            "[6m 47s (8900 29%) 2.4325]\n",
            "[6m 52s (9000 30%) 0.0794]\n",
            "[6m 57s (9100 30%) 0.1823]\n",
            "[7m 2s (9200 30%) 0.0312]\n",
            "[7m 6s (9300 31%) 0.0548]\n",
            "[7m 10s (9400 31%) 0.0133]\n",
            "[7m 15s (9500 31%) 0.0888]\n",
            "[7m 20s (9600 32%) 0.4107]\n",
            "[7m 24s (9700 32%) 0.2139]\n",
            "[7m 29s (9800 32%) 0.0315]\n",
            "[7m 34s (9900 33%) 0.0920]\n",
            "[7m 38s (10000 33%) 0.3907]\n",
            "[7m 44s (10100 33%) 1.2575]\n",
            "[7m 49s (10200 34%) 0.0140]\n",
            "[7m 53s (10300 34%) 0.0134]\n",
            "[7m 59s (10400 34%) 0.0558]\n",
            "[8m 3s (10500 35%) 0.1617]\n",
            "[8m 7s (10600 35%) 0.3359]\n",
            "[8m 10s (10700 35%) 0.0691]\n",
            "[8m 14s (10800 36%) 0.0597]\n",
            "[8m 20s (10900 36%) 0.3253]\n",
            "[8m 24s (11000 36%) 0.1966]\n",
            "[8m 28s (11100 37%) 0.0329]\n",
            "[8m 32s (11200 37%) 0.0120]\n",
            "[8m 37s (11300 37%) 0.2268]\n",
            "[8m 41s (11400 38%) 0.4009]\n",
            "[8m 46s (11500 38%) 0.0506]\n",
            "[8m 49s (11600 38%) 0.0153]\n",
            "[8m 54s (11700 39%) 0.0419]\n",
            "[8m 58s (11800 39%) 0.1732]\n",
            "[9m 3s (11900 39%) 0.0614]\n",
            "[9m 7s (12000 40%) 0.1038]\n",
            "[9m 12s (12100 40%) 0.1039]\n",
            "[9m 18s (12200 40%) 0.0116]\n",
            "[9m 21s (12300 41%) 0.0141]\n",
            "[9m 25s (12400 41%) 0.0127]\n",
            "[9m 30s (12500 41%) 0.0132]\n",
            "[9m 34s (12600 42%) 0.1962]\n",
            "[9m 38s (12700 42%) 0.0511]\n",
            "[9m 44s (12800 42%) 0.0568]\n",
            "[9m 49s (12900 43%) 0.2027]\n",
            "[9m 53s (13000 43%) 0.0355]\n",
            "[9m 58s (13100 43%) 0.0114]\n",
            "[10m 2s (13200 44%) 0.3599]\n",
            "[10m 8s (13300 44%) 0.0291]\n",
            "[10m 13s (13400 44%) 0.1668]\n",
            "[10m 17s (13500 45%) 0.2575]\n",
            "[10m 22s (13600 45%) 0.0060]\n",
            "[10m 27s (13700 45%) 0.0374]\n",
            "[10m 31s (13800 46%) 0.2827]\n",
            "[10m 36s (13900 46%) 0.0973]\n",
            "[10m 40s (14000 46%) 0.1792]\n",
            "[10m 45s (14100 47%) 0.3416]\n",
            "[10m 49s (14200 47%) 0.1569]\n",
            "[10m 53s (14300 47%) 0.0131]\n",
            "[10m 56s (14400 48%) 0.0125]\n",
            "[11m 1s (14500 48%) 0.0127]\n",
            "[11m 4s (14600 48%) 0.0998]\n",
            "[11m 10s (14700 49%) 0.1693]\n",
            "[11m 15s (14800 49%) 0.3018]\n",
            "[11m 19s (14900 49%) 0.0112]\n",
            "[11m 23s (15000 50%) 0.0520]\n",
            "[11m 27s (15100 50%) 0.1208]\n",
            "[11m 31s (15200 50%) 0.0239]\n",
            "[11m 35s (15300 51%) 1.4784]\n",
            "[11m 39s (15400 51%) 0.1815]\n",
            "[11m 43s (15500 51%) 0.0231]\n",
            "[11m 48s (15600 52%) 0.0131]\n",
            "[11m 51s (15700 52%) 0.0116]\n",
            "[11m 55s (15800 52%) 0.0591]\n",
            "[12m 0s (15900 53%) 2.2141]\n",
            "[12m 5s (16000 53%) 0.0131]\n",
            "[12m 9s (16100 53%) 0.3600]\n",
            "[12m 13s (16200 54%) 0.2276]\n",
            "[12m 17s (16300 54%) 0.3703]\n",
            "[12m 21s (16400 54%) 0.3895]\n",
            "[12m 26s (16500 55%) 0.0248]\n",
            "[12m 32s (16600 55%) 0.0982]\n",
            "[12m 36s (16700 55%) 0.0297]\n",
            "[12m 40s (16800 56%) 0.2093]\n",
            "[12m 44s (16900 56%) 0.2368]\n",
            "[12m 49s (17000 56%) 0.1281]\n",
            "[12m 53s (17100 56%) 0.5302]\n",
            "[12m 57s (17200 57%) 0.0118]\n",
            "[13m 1s (17300 57%) 0.0394]\n",
            "[13m 5s (17400 57%) 0.0978]\n",
            "[13m 9s (17500 58%) 0.2011]\n",
            "[13m 15s (17600 58%) 0.2127]\n",
            "[13m 19s (17700 59%) 0.0260]\n",
            "[13m 23s (17800 59%) 0.0471]\n",
            "[13m 27s (17900 59%) 0.1309]\n",
            "[13m 34s (18000 60%) 0.1036]\n",
            "[13m 39s (18100 60%) 0.2167]\n",
            "[13m 46s (18200 60%) 0.0247]\n",
            "[13m 50s (18300 61%) 0.3269]\n",
            "[13m 55s (18400 61%) 0.0233]\n",
            "[14m 0s (18500 61%) 0.0494]\n",
            "[14m 4s (18600 62%) 0.2356]\n",
            "[14m 9s (18700 62%) 0.1131]\n",
            "[14m 13s (18800 62%) 0.0098]\n",
            "[14m 17s (18900 63%) 0.2846]\n",
            "[14m 22s (19000 63%) 0.2784]\n",
            "[14m 28s (19100 63%) 0.1845]\n",
            "[14m 31s (19200 64%) 0.2357]\n",
            "[14m 37s (19300 64%) 0.2065]\n",
            "[14m 42s (19400 64%) 0.1269]\n",
            "[14m 46s (19500 65%) 0.5534]\n",
            "[14m 50s (19600 65%) 0.0140]\n",
            "[14m 55s (19700 65%) 0.0885]\n",
            "[15m 1s (19800 66%) 0.2572]\n",
            "[15m 6s (19900 66%) 0.0190]\n",
            "[15m 10s (20000 66%) 0.2658]\n",
            "[15m 15s (20100 67%) 1.8136]\n",
            "[15m 19s (20200 67%) 0.1105]\n",
            "[15m 23s (20300 67%) 0.0678]\n",
            "[15m 29s (20400 68%) 0.0129]\n",
            "[15m 33s (20500 68%) 0.0674]\n",
            "[15m 37s (20600 68%) 0.0109]\n",
            "[15m 41s (20700 69%) 0.0221]\n",
            "[15m 46s (20800 69%) 0.3102]\n",
            "[15m 50s (20900 69%) 0.2354]\n",
            "[15m 56s (21000 70%) 0.0203]\n",
            "[16m 1s (21100 70%) 0.1380]\n",
            "[16m 5s (21200 70%) 0.1098]\n",
            "[16m 9s (21300 71%) 0.0112]\n",
            "[16m 13s (21400 71%) 0.0108]\n",
            "[16m 17s (21500 71%) 0.0949]\n",
            "[16m 24s (21600 72%) 0.2149]\n",
            "[16m 29s (21700 72%) 0.2765]\n",
            "[16m 34s (21800 72%) 0.0205]\n",
            "[16m 38s (21900 73%) 0.0253]\n",
            "[16m 43s (22000 73%) 0.3681]\n",
            "[16m 47s (22100 73%) 0.0120]\n",
            "[16m 52s (22200 74%) 0.2559]\n",
            "[16m 58s (22300 74%) 0.1959]\n",
            "[17m 2s (22400 74%) 0.0744]\n",
            "[17m 6s (22500 75%) 0.2389]\n",
            "[17m 11s (22600 75%) 0.0518]\n",
            "[17m 16s (22700 75%) 0.1904]\n",
            "[17m 21s (22800 76%) 0.3337]\n",
            "[17m 25s (22900 76%) 0.1570]\n",
            "[17m 31s (23000 76%) 0.0770]\n",
            "[17m 35s (23100 77%) 0.2765]\n",
            "[17m 41s (23200 77%) 0.0136]\n",
            "[17m 46s (23300 77%) 0.0350]\n",
            "[17m 49s (23400 78%) 0.1146]\n",
            "[17m 54s (23500 78%) 2.6699]\n",
            "[17m 58s (23600 78%) 2.0193]\n",
            "[18m 3s (23700 79%) 0.0126]\n",
            "[18m 8s (23800 79%) 0.1402]\n",
            "[18m 12s (23900 79%) 0.2152]\n",
            "[18m 17s (24000 80%) 0.3144]\n",
            "[18m 21s (24100 80%) 0.2085]\n",
            "[18m 24s (24200 80%) 0.0119]\n",
            "[18m 29s (24300 81%) 0.1974]\n",
            "[18m 33s (24400 81%) 0.0116]\n",
            "[18m 38s (24500 81%) 0.2237]\n",
            "[18m 43s (24600 82%) 0.0823]\n",
            "[18m 48s (24700 82%) 0.0085]\n",
            "[18m 53s (24800 82%) 0.0112]\n",
            "[18m 57s (24900 83%) 0.2548]\n",
            "[19m 2s (25000 83%) 0.1192]\n",
            "[19m 6s (25100 83%) 0.3259]\n",
            "[19m 10s (25200 84%) 0.1869]\n",
            "[19m 13s (25300 84%) 0.1159]\n",
            "[19m 18s (25400 84%) 0.2266]\n",
            "[19m 24s (25500 85%) 0.0933]\n",
            "[19m 28s (25600 85%) 0.1157]\n",
            "[19m 34s (25700 85%) 0.0354]\n",
            "[19m 38s (25800 86%) 0.0905]\n",
            "[19m 42s (25900 86%) 0.0136]\n",
            "[19m 47s (26000 86%) 0.0509]\n",
            "[19m 52s (26100 87%) 0.0912]\n",
            "[19m 57s (26200 87%) 0.0129]\n",
            "[20m 2s (26300 87%) 0.0940]\n",
            "[20m 6s (26400 88%) 0.0109]\n",
            "[20m 12s (26500 88%) 0.0571]\n",
            "[20m 16s (26600 88%) 0.2664]\n",
            "[20m 20s (26700 89%) 0.0369]\n",
            "[20m 24s (26800 89%) 0.0504]\n",
            "[20m 30s (26900 89%) 0.0850]\n",
            "[20m 35s (27000 90%) 0.0118]\n",
            "[20m 39s (27100 90%) 0.0123]\n",
            "[20m 43s (27200 90%) 0.0993]\n",
            "[20m 47s (27300 91%) 0.1171]\n",
            "[20m 54s (27400 91%) 0.0295]\n",
            "[20m 58s (27500 91%) 0.0560]\n",
            "[21m 3s (27600 92%) 0.3009]\n",
            "[21m 9s (27700 92%) 0.0116]\n",
            "[21m 13s (27800 92%) 0.3251]\n",
            "[21m 17s (27900 93%) 0.0129]\n",
            "[21m 21s (28000 93%) 0.3914]\n",
            "[21m 27s (28100 93%) 1.0187]\n",
            "[21m 31s (28200 94%) 0.0995]\n",
            "[21m 35s (28300 94%) 0.0128]\n",
            "[21m 40s (28400 94%) 0.1334]\n",
            "[21m 46s (28500 95%) 0.0176]\n",
            "[21m 51s (28600 95%) 0.1009]\n",
            "[21m 56s (28700 95%) 0.0121]\n",
            "[22m 0s (28800 96%) 2.3056]\n",
            "[22m 4s (28900 96%) 0.2362]\n",
            "[22m 10s (29000 96%) 0.1588]\n",
            "[22m 14s (29100 97%) 0.1441]\n",
            "[22m 18s (29200 97%) 0.0515]\n",
            "[22m 23s (29300 97%) 0.1661]\n",
            "[22m 28s (29400 98%) 2.6634]\n",
            "[22m 32s (29500 98%) 0.1481]\n",
            "[22m 36s (29600 98%) 0.0132]\n",
            "[22m 40s (29700 99%) 0.0491]\n",
            "[22m 45s (29800 99%) 0.1059]\n",
            "[22m 50s (29900 99%) 0.0117]\n",
            "[22m 53s (30000 100%) 0.3264]\n"
          ],
          "name": "stdout"
        }
      ]
    },
    {
      "cell_type": "code",
      "metadata": {
        "id": "rd6XjF6yMYR4",
        "colab_type": "code",
        "outputId": "46ed46cf-249b-456c-fae4-f90dfb5998c8",
        "colab": {
          "base_uri": "https://localhost:8080/",
          "height": 54
        }
      },
      "source": [
        "print(evaluate(\"Oh, how bad is it?\", 1), '\\n')"
      ],
      "execution_count": 0,
      "outputs": [
        {
          "output_type": "stream",
          "text": [
            "r \n",
            "\n"
          ],
          "name": "stdout"
        }
      ]
    },
    {
      "cell_type": "markdown",
      "metadata": {
        "id": "Zl13tU5FkMPW",
        "colab_type": "text"
      },
      "source": [
        "#Test"
      ]
    },
    {
      "cell_type": "code",
      "metadata": {
        "id": "hQLjBmDNiC1j",
        "colab_type": "code",
        "outputId": "458f4e00-a893-43a3-d143-6561476cacb5",
        "colab": {
          "base_uri": "https://localhost:8080/",
          "height": 198
        }
      },
      "source": [
        "# carregar o dataset de test\n",
        "\n",
        "raw_data2 = pd.read_csv('test_dataset.txt')\n",
        "raw_data2.head()"
      ],
      "execution_count": 0,
      "outputs": [
        {
          "output_type": "execute_result",
          "data": {
            "text/html": [
              "<div>\n",
              "<style scoped>\n",
              "    .dataframe tbody tr th:only-of-type {\n",
              "        vertical-align: middle;\n",
              "    }\n",
              "\n",
              "    .dataframe tbody tr th {\n",
              "        vertical-align: top;\n",
              "    }\n",
              "\n",
              "    .dataframe thead th {\n",
              "        text-align: right;\n",
              "    }\n",
              "</style>\n",
              "<table border=\"1\" class=\"dataframe\">\n",
              "  <thead>\n",
              "    <tr style=\"text-align: right;\">\n",
              "      <th></th>\n",
              "      <th>Sr No.</th>\n",
              "      <th>Utterance</th>\n",
              "      <th>Speaker</th>\n",
              "      <th>Emotion</th>\n",
              "      <th>Sentiment</th>\n",
              "      <th>Dialogue_ID</th>\n",
              "      <th>Utterance_ID</th>\n",
              "      <th>Season</th>\n",
              "      <th>Episode</th>\n",
              "      <th>StartTime</th>\n",
              "      <th>EndTime</th>\n",
              "    </tr>\n",
              "  </thead>\n",
              "  <tbody>\n",
              "    <tr>\n",
              "      <th>0</th>\n",
              "      <td>1</td>\n",
              "      <td>Why do all youre coffee mugs have numbers on ...</td>\n",
              "      <td>Mark</td>\n",
              "      <td>surprise</td>\n",
              "      <td>positive</td>\n",
              "      <td>0</td>\n",
              "      <td>0</td>\n",
              "      <td>3</td>\n",
              "      <td>19</td>\n",
              "      <td>00:14:38,127</td>\n",
              "      <td>00:14:40,378</td>\n",
              "    </tr>\n",
              "    <tr>\n",
              "      <th>1</th>\n",
              "      <td>2</td>\n",
              "      <td>Oh. Thats so Monica can keep track. That way ...</td>\n",
              "      <td>Rachel</td>\n",
              "      <td>anger</td>\n",
              "      <td>negative</td>\n",
              "      <td>0</td>\n",
              "      <td>1</td>\n",
              "      <td>3</td>\n",
              "      <td>19</td>\n",
              "      <td>00:14:40,629</td>\n",
              "      <td>00:14:47,385</td>\n",
              "    </tr>\n",
              "    <tr>\n",
              "      <th>2</th>\n",
              "      <td>3</td>\n",
              "      <td>Y'know what?</td>\n",
              "      <td>Rachel</td>\n",
              "      <td>neutral</td>\n",
              "      <td>neutral</td>\n",
              "      <td>0</td>\n",
              "      <td>2</td>\n",
              "      <td>3</td>\n",
              "      <td>19</td>\n",
              "      <td>00:14:56,353</td>\n",
              "      <td>00:14:57,520</td>\n",
              "    </tr>\n",
              "    <tr>\n",
              "      <th>3</th>\n",
              "      <td>19</td>\n",
              "      <td>Come on, Lydia, you can do it.</td>\n",
              "      <td>Joey</td>\n",
              "      <td>neutral</td>\n",
              "      <td>neutral</td>\n",
              "      <td>1</td>\n",
              "      <td>0</td>\n",
              "      <td>1</td>\n",
              "      <td>23</td>\n",
              "      <td>0:10:44,769</td>\n",
              "      <td>0:10:46,146</td>\n",
              "    </tr>\n",
              "    <tr>\n",
              "      <th>4</th>\n",
              "      <td>20</td>\n",
              "      <td>Push!</td>\n",
              "      <td>Joey</td>\n",
              "      <td>joy</td>\n",
              "      <td>positive</td>\n",
              "      <td>1</td>\n",
              "      <td>1</td>\n",
              "      <td>1</td>\n",
              "      <td>23</td>\n",
              "      <td>0:10:46,146</td>\n",
              "      <td>0:10:46,833</td>\n",
              "    </tr>\n",
              "  </tbody>\n",
              "</table>\n",
              "</div>"
            ],
            "text/plain": [
              "   Sr No.  ...       EndTime\n",
              "0       1  ...  00:14:40,378\n",
              "1       2  ...  00:14:47,385\n",
              "2       3  ...  00:14:57,520\n",
              "3      19  ...   0:10:46,146\n",
              "4      20  ...   0:10:46,833\n",
              "\n",
              "[5 rows x 11 columns]"
            ]
          },
          "metadata": {
            "tags": []
          },
          "execution_count": 20
        }
      ]
    },
    {
      "cell_type": "code",
      "metadata": {
        "id": "APcPYtchklmN",
        "colab_type": "code",
        "outputId": "7c6a2b10-1889-4e9e-dd12-0dd5cca6f4af",
        "colab": {
          "base_uri": "https://localhost:8080/",
          "height": 198
        }
      },
      "source": [
        "# remover colunas não relevantes\n",
        "\n",
        "data2 = raw_data2.drop([\"Sr No.\", \"Emotion\", \"Sentiment\",\"Dialogue_ID\",\"Utterance_ID\",\"Season\",\"Episode\",\"StartTime\",\"EndTime\"], axis= 1)\n",
        "data2.head()"
      ],
      "execution_count": 0,
      "outputs": [
        {
          "output_type": "execute_result",
          "data": {
            "text/html": [
              "<div>\n",
              "<style scoped>\n",
              "    .dataframe tbody tr th:only-of-type {\n",
              "        vertical-align: middle;\n",
              "    }\n",
              "\n",
              "    .dataframe tbody tr th {\n",
              "        vertical-align: top;\n",
              "    }\n",
              "\n",
              "    .dataframe thead th {\n",
              "        text-align: right;\n",
              "    }\n",
              "</style>\n",
              "<table border=\"1\" class=\"dataframe\">\n",
              "  <thead>\n",
              "    <tr style=\"text-align: right;\">\n",
              "      <th></th>\n",
              "      <th>Utterance</th>\n",
              "      <th>Speaker</th>\n",
              "    </tr>\n",
              "  </thead>\n",
              "  <tbody>\n",
              "    <tr>\n",
              "      <th>0</th>\n",
              "      <td>Why do all youre coffee mugs have numbers on ...</td>\n",
              "      <td>Mark</td>\n",
              "    </tr>\n",
              "    <tr>\n",
              "      <th>1</th>\n",
              "      <td>Oh. Thats so Monica can keep track. That way ...</td>\n",
              "      <td>Rachel</td>\n",
              "    </tr>\n",
              "    <tr>\n",
              "      <th>2</th>\n",
              "      <td>Y'know what?</td>\n",
              "      <td>Rachel</td>\n",
              "    </tr>\n",
              "    <tr>\n",
              "      <th>3</th>\n",
              "      <td>Come on, Lydia, you can do it.</td>\n",
              "      <td>Joey</td>\n",
              "    </tr>\n",
              "    <tr>\n",
              "      <th>4</th>\n",
              "      <td>Push!</td>\n",
              "      <td>Joey</td>\n",
              "    </tr>\n",
              "  </tbody>\n",
              "</table>\n",
              "</div>"
            ],
            "text/plain": [
              "                                           Utterance Speaker\n",
              "0  Why do all youre coffee mugs have numbers on ...    Mark\n",
              "1  Oh. Thats so Monica can keep track. That way ...  Rachel\n",
              "2                                       Y'know what?  Rachel\n",
              "3                     Come on, Lydia, you can do it.    Joey\n",
              "4                                              Push!    Joey"
            ]
          },
          "metadata": {
            "tags": []
          },
          "execution_count": 21
        }
      ]
    },
    {
      "cell_type": "code",
      "metadata": {
        "id": "BXmkInLolnsm",
        "colab_type": "code",
        "outputId": "fb57eca1-9cae-4159-c13b-e0e9bfbd4de0",
        "colab": {
          "base_uri": "https://localhost:8080/"
        }
      },
      "source": [
        "#Normalizar o dataset com targets com 1 char apenas\n",
        "# sendo eles: \n",
        "#   c= Chandler\n",
        "#   r = Rachel\n",
        "#   R = Ross\n",
        "#   m = Monica\n",
        "#   p = Phoebe\n",
        "#   j = Joey\n",
        "#   o = others speakers\n",
        "\n",
        "\n",
        "for i in range(len(data2)):\n",
        "    if(data2.iloc[i][-1] == 'Chandler'):\n",
        "        data2.loc[i][-1] = 'c'\n",
        "    elif(data2.iloc[i][-1] == 'Rachel'):\n",
        "        data2.loc[i][-1] = 'r'\n",
        "    elif(data2.iloc[i][-1] == 'Ross'):\n",
        "        data2.loc[i][-1] = 'R'\n",
        "    elif(data2.iloc[i][-1] == 'Monica'):\n",
        "        data2.loc[i][-1] = 'm'\n",
        "    elif(data2.iloc[i][-1] == 'Phoebe'):\n",
        "        data2.loc[i][-1] = 'p'\n",
        "    elif(data2.iloc[i][-1] == 'Joey'):\n",
        "        data2.loc[i][-1] = 'j'\n",
        "    else:\n",
        "        data2.loc[i][-1] = 'o'\n",
        "\n",
        "        \n",
        "data2.sample(frac=1)        \n",
        "        \n",
        "data2.head()\n"
      ],
      "execution_count": 0,
      "outputs": [
        {
          "output_type": "execute_result",
          "data": {
            "text/html": [
              "<div>\n",
              "<style scoped>\n",
              "    .dataframe tbody tr th:only-of-type {\n",
              "        vertical-align: middle;\n",
              "    }\n",
              "\n",
              "    .dataframe tbody tr th {\n",
              "        vertical-align: top;\n",
              "    }\n",
              "\n",
              "    .dataframe thead th {\n",
              "        text-align: right;\n",
              "    }\n",
              "</style>\n",
              "<table border=\"1\" class=\"dataframe\">\n",
              "  <thead>\n",
              "    <tr style=\"text-align: right;\">\n",
              "      <th></th>\n",
              "      <th>Utterance</th>\n",
              "      <th>Speaker</th>\n",
              "    </tr>\n",
              "  </thead>\n",
              "  <tbody>\n",
              "    <tr>\n",
              "      <th>0</th>\n",
              "      <td>Why do all youre coffee mugs have numbers on ...</td>\n",
              "      <td>o</td>\n",
              "    </tr>\n",
              "    <tr>\n",
              "      <th>1</th>\n",
              "      <td>Oh. Thats so Monica can keep track. That way ...</td>\n",
              "      <td>r</td>\n",
              "    </tr>\n",
              "    <tr>\n",
              "      <th>2</th>\n",
              "      <td>Y'know what?</td>\n",
              "      <td>r</td>\n",
              "    </tr>\n",
              "    <tr>\n",
              "      <th>3</th>\n",
              "      <td>Come on, Lydia, you can do it.</td>\n",
              "      <td>j</td>\n",
              "    </tr>\n",
              "    <tr>\n",
              "      <th>4</th>\n",
              "      <td>Push!</td>\n",
              "      <td>j</td>\n",
              "    </tr>\n",
              "  </tbody>\n",
              "</table>\n",
              "</div>"
            ],
            "text/plain": [
              "                                           Utterance Speaker\n",
              "0  Why do all youre coffee mugs have numbers on ...       o\n",
              "1  Oh. Thats so Monica can keep track. That way ...       r\n",
              "2                                       Y'know what?       r\n",
              "3                     Come on, Lydia, you can do it.       j\n",
              "4                                              Push!       j"
            ]
          },
          "metadata": {
            "tags": []
          },
          "execution_count": 22
        }
      ]
    },
    {
      "cell_type": "code",
      "metadata": {
        "colab_type": "code",
        "id": "7Cls2scl44kg",
        "colab": {}
      },
      "source": [
        "#normalizar o dataset, tirando os diálogos com menos de 20 de legth\n",
        " #if(len(data1.iloc[i][0])<20):\n",
        "       # data1 = data1.drop([i], axis=0)\n",
        "\n",
        "#data1 = data1.drop([0], axis=0)\n",
        "#data1 = data1.drop([1], axis=0)\n",
        "data2 = data2[data2['Utterance'].map(len) > 20]\n",
        "data2 = data2[data2['Speaker'] != 'o']"
      ],
      "execution_count": 0,
      "outputs": []
    },
    {
      "cell_type": "code",
      "metadata": {
        "colab_type": "code",
        "id": "p86cOSSA48j8",
        "outputId": "54ef4375-7c2d-49f0-fb55-248c1e985567",
        "colab": {
          "base_uri": "https://localhost:8080/",
          "height": 216
        }
      },
      "source": [
        "print(len(data2))\n",
        "data2.head()"
      ],
      "execution_count": 0,
      "outputs": [
        {
          "output_type": "stream",
          "text": [
            "1468\n"
          ],
          "name": "stdout"
        },
        {
          "output_type": "execute_result",
          "data": {
            "text/html": [
              "<div>\n",
              "<style scoped>\n",
              "    .dataframe tbody tr th:only-of-type {\n",
              "        vertical-align: middle;\n",
              "    }\n",
              "\n",
              "    .dataframe tbody tr th {\n",
              "        vertical-align: top;\n",
              "    }\n",
              "\n",
              "    .dataframe thead th {\n",
              "        text-align: right;\n",
              "    }\n",
              "</style>\n",
              "<table border=\"1\" class=\"dataframe\">\n",
              "  <thead>\n",
              "    <tr style=\"text-align: right;\">\n",
              "      <th></th>\n",
              "      <th>Utterance</th>\n",
              "      <th>Speaker</th>\n",
              "    </tr>\n",
              "  </thead>\n",
              "  <tbody>\n",
              "    <tr>\n",
              "      <th>1</th>\n",
              "      <td>Oh. Thats so Monica can keep track. That way ...</td>\n",
              "      <td>r</td>\n",
              "    </tr>\n",
              "    <tr>\n",
              "      <th>3</th>\n",
              "      <td>Come on, Lydia, you can do it.</td>\n",
              "      <td>j</td>\n",
              "    </tr>\n",
              "    <tr>\n",
              "      <th>5</th>\n",
              "      <td>Push 'em out, push 'em out, harder, harder.</td>\n",
              "      <td>j</td>\n",
              "    </tr>\n",
              "    <tr>\n",
              "      <th>6</th>\n",
              "      <td>Push 'em out, push 'em out, way out!</td>\n",
              "      <td>j</td>\n",
              "    </tr>\n",
              "    <tr>\n",
              "      <th>7</th>\n",
              "      <td>Let's get that ball and really move, hey, hey,...</td>\n",
              "      <td>j</td>\n",
              "    </tr>\n",
              "  </tbody>\n",
              "</table>\n",
              "</div>"
            ],
            "text/plain": [
              "                                           Utterance Speaker\n",
              "1  Oh. Thats so Monica can keep track. That way ...       r\n",
              "3                     Come on, Lydia, you can do it.       j\n",
              "5        Push 'em out, push 'em out, harder, harder.       j\n",
              "6               Push 'em out, push 'em out, way out!       j\n",
              "7  Let's get that ball and really move, hey, hey,...       j"
            ]
          },
          "metadata": {
            "tags": []
          },
          "execution_count": 24
        }
      ]
    },
    {
      "cell_type": "code",
      "metadata": {
        "id": "mo2uaUccl46G",
        "colab_type": "code",
        "outputId": "2211d4fa-4f26-4eaf-f7db-51439f45ffcf",
        "colab": {
          "base_uri": "https://localhost:8080/",
          "height": 35
        }
      },
      "source": [
        "#usando o evaluate para avaliar o modelo com o dataset de test\n",
        "correct = 0\n",
        "loss = 0\n",
        "\n",
        "for i in range(len(data2)):\n",
        "    predict = evaluate(data2.iloc[i][0])\n",
        "    label = data2.iloc[i][-1]\n",
        "    if(predict == label):\n",
        "        correct+=1\n",
        "    \n",
        "        \n",
        "        \n",
        "        \n",
        "accuracy = correct/(len(data2))\n",
        "\n",
        "\n",
        "\n",
        "print('Acurácia: %d%%'  % (accuracy * 100))"
      ],
      "execution_count": 0,
      "outputs": [
        {
          "output_type": "stream",
          "text": [
            "Acurácia: 20%\n"
          ],
          "name": "stdout"
        }
      ]
    },
    {
      "cell_type": "code",
      "metadata": {
        "id": "hbyCaT4wyl_h",
        "colab_type": "code",
        "colab": {}
      },
      "source": [
        ""
      ],
      "execution_count": 0,
      "outputs": []
    }
  ]
}